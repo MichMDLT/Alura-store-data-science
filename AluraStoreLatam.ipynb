{
  "nbformat": 4,
  "nbformat_minor": 0,
  "metadata": {
    "colab": {
      "provenance": [],
      "include_colab_link": true
    },
    "kernelspec": {
      "name": "python3",
      "display_name": "Python 3"
    },
    "language_info": {
      "name": "python"
    }
  },
  "cells": [
    {
      "cell_type": "markdown",
      "metadata": {
        "id": "view-in-github",
        "colab_type": "text"
      },
      "source": [
        "<a href=\"https://colab.research.google.com/github/MichMDLT/Alura-store-data-science/blob/main/AluraStoreLatam.ipynb\" target=\"_parent\"><img src=\"https://colab.research.google.com/assets/colab-badge.svg\" alt=\"Open In Colab\"/></a>"
      ]
    },
    {
      "cell_type": "markdown",
      "source": [
        "### Importación de datos\n",
        "\n"
      ],
      "metadata": {
        "id": "RhEdWd9YUR6H"
      }
    },
    {
      "cell_type": "code",
      "execution_count": 1,
      "metadata": {
        "colab": {
          "base_uri": "https://localhost:8080/",
          "height": 109
        },
        "id": "T3EvaeQ_INIL",
        "outputId": "42149d93-cbee-41ed-b0e2-ec0f8f44ac18"
      },
      "outputs": [
        {
          "output_type": "execute_result",
          "data": {
            "text/plain": [
              "'\\nurl = \"https://raw.githubusercontent.com/alura-es-cursos/challenge1-data-science-latam/refs/heads/main/base-de-datos-challenge1-latam/tienda_1%20.csv\"\\nurl2 = \"https://raw.githubusercontent.com/alura-es-cursos/challenge1-data-science-latam/refs/heads/main/base-de-datos-challenge1-latam/tienda_2.csv\"\\nurl3 = \"https://raw.githubusercontent.com/alura-es-cursos/challenge1-data-science-latam/refs/heads/main/base-de-datos-challenge1-latam/tienda_3.csv\"\\nurl4 = \"https://raw.githubusercontent.com/alura-es-cursos/challenge1-data-science-latam/refs/heads/main/base-de-datos-challenge1-latam/tienda_4.csv\"\\n\\ntienda = pd.read_csv(url)\\ntienda2 = pd.read_csv(url2)\\ntienda3 = pd.read_csv(url3)\\ntienda4 = pd.read_csv(url4)\\n\\ntienda.head()\\n'"
            ],
            "application/vnd.google.colaboratory.intrinsic+json": {
              "type": "string"
            }
          },
          "metadata": {},
          "execution_count": 1
        }
      ],
      "source": [
        "import pandas as pd\n",
        "import matplotlib.pyplot as plt\n",
        "\n",
        "'''\n",
        "url = \"https://raw.githubusercontent.com/alura-es-cursos/challenge1-data-science-latam/refs/heads/main/base-de-datos-challenge1-latam/tienda_1%20.csv\"\n",
        "url2 = \"https://raw.githubusercontent.com/alura-es-cursos/challenge1-data-science-latam/refs/heads/main/base-de-datos-challenge1-latam/tienda_2.csv\"\n",
        "url3 = \"https://raw.githubusercontent.com/alura-es-cursos/challenge1-data-science-latam/refs/heads/main/base-de-datos-challenge1-latam/tienda_3.csv\"\n",
        "url4 = \"https://raw.githubusercontent.com/alura-es-cursos/challenge1-data-science-latam/refs/heads/main/base-de-datos-challenge1-latam/tienda_4.csv\"\n",
        "\n",
        "tienda = pd.read_csv(url)\n",
        "tienda2 = pd.read_csv(url2)\n",
        "tienda3 = pd.read_csv(url3)\n",
        "tienda4 = pd.read_csv(url4)\n",
        "\n",
        "tienda.head()\n",
        "'''"
      ]
    },
    {
      "cell_type": "code",
      "source": [
        "!git clone https://github.com/MichMDLT/Alura-store-data-science"
      ],
      "metadata": {
        "colab": {
          "base_uri": "https://localhost:8080/"
        },
        "id": "NCUISUSoMsYd",
        "outputId": "9af5cbf7-c9a4-4489-bbca-fd774cc8a3b6"
      },
      "execution_count": 2,
      "outputs": [
        {
          "output_type": "stream",
          "name": "stdout",
          "text": [
            "Cloning into 'Alura-store-data-science'...\n",
            "remote: Enumerating objects: 30, done.\u001b[K\n",
            "remote: Counting objects: 100% (30/30), done.\u001b[K\n",
            "remote: Compressing objects: 100% (27/27), done.\u001b[K\n",
            "remote: Total 30 (delta 8), reused 0 (delta 0), pack-reused 0 (from 0)\u001b[K\n",
            "Receiving objects: 100% (30/30), 211.81 KiB | 1.32 MiB/s, done.\n",
            "Resolving deltas: 100% (8/8), done.\n"
          ]
        }
      ]
    },
    {
      "cell_type": "code",
      "source": [
        "!ls -R /content/Alura-store-data-science"
      ],
      "metadata": {
        "colab": {
          "base_uri": "https://localhost:8080/"
        },
        "id": "b1AgOzWrO2Vs",
        "outputId": "d2853bea-f39e-4870-b337-53b139aa63a2"
      },
      "execution_count": 3,
      "outputs": [
        {
          "output_type": "stream",
          "name": "stdout",
          "text": [
            "/content/Alura-store-data-science:\n",
            "AluraStoreLatam.ipynb  base-de-datos-latam  README.md\n",
            "\n",
            "/content/Alura-store-data-science/base-de-datos-latam:\n",
            "tienda_1.csv  tienda_2.csv  tienda_3.csv  tienda_4.csv\n"
          ]
        }
      ]
    },
    {
      "cell_type": "code",
      "source": [
        "#Para trabajar cada tienda por separado: df_tiendaX (reemplazar x por 1,2,3 o 4)\n",
        "df_tienda1 = pd.read_csv('/content/Alura-store-data-science/base-de-datos-latam/tienda_1.csv')\n",
        "df_tienda2 = pd.read_csv('/content/Alura-store-data-science/base-de-datos-latam/tienda_2.csv')\n",
        "df_tienda3 = pd.read_csv('/content/Alura-store-data-science/base-de-datos-latam/tienda_3.csv')\n",
        "df_tienda4 = pd.read_csv('/content/Alura-store-data-science/base-de-datos-latam/tienda_4.csv')"
      ],
      "metadata": {
        "id": "2jgyjFYaM0eP"
      },
      "execution_count": 4,
      "outputs": []
    },
    {
      "cell_type": "code",
      "source": [
        "# Unir todos los DataFrames en uno solo\n",
        "df_completo = pd.concat([df_tienda1, df_tienda2, df_tienda3, df_tienda4])"
      ],
      "metadata": {
        "id": "PrZkbXaWRPN6"
      },
      "execution_count": 5,
      "outputs": []
    },
    {
      "cell_type": "markdown",
      "source": [
        "# Para verificar que todo cargó bien:"
      ],
      "metadata": {
        "id": "A46KRKilWfwO"
      }
    },
    {
      "cell_type": "code",
      "source": [
        "# .shape en pandas muestra la dimensión del DataFrame - devuelve tupla (#, #)\n",
        "print(\"Tienda 1:\", df_tienda1.shape)\n",
        "print()\n",
        "#muestra los primeros 5 registros\n",
        "print(\"Tienda 4:\", df_tienda4.head())"
      ],
      "metadata": {
        "colab": {
          "base_uri": "https://localhost:8080/"
        },
        "id": "GHv8-Ko9UrPg",
        "outputId": "843475c1-7e5e-423c-9075-b068f51e7794"
      },
      "execution_count": 6,
      "outputs": [
        {
          "output_type": "stream",
          "name": "stdout",
          "text": [
            "Tienda 1: (2359, 12)\n",
            "\n",
            "Tienda 4:               Producto Categoría del Producto     Precio  Costo de envío  \\\n",
            "0         Lavavajillas      Electrodomésticos  1084800.0         56000.0   \n",
            "1             Cama box                Muebles   473800.0         25400.0   \n",
            "2  Balón de baloncesto   Deportes y diversión    23700.0             0.0   \n",
            "3  Modelado predictivo                 Libros    57700.0          1300.0   \n",
            "4          Auriculares           Electrónicos   138900.0          5600.0   \n",
            "\n",
            "  Fecha de Compra         Vendedor Lugar de Compra  Calificación  \\\n",
            "0      11/11/2022    Rafael Acosta          Bogotá             4   \n",
            "1      03/01/2020  Izabela de León          Cúcuta             5   \n",
            "2      25/12/2022    Maria Alfonso        Medellín             5   \n",
            "3      23/11/2021    Lucas Olivera        Medellín             3   \n",
            "4      25/04/2022   Blanca Ramirez          Bogotá             4   \n",
            "\n",
            "       Método de pago  Cantidad de cuotas      lat       lon  \n",
            "0  Tarjeta de crédito                   3  4.60971 -74.08175  \n",
            "1  Tarjeta de crédito                   2  7.89391 -72.50782  \n",
            "2               Nequi                   1  6.25184 -75.56359  \n",
            "3               Nequi                   1  6.25184 -75.56359  \n",
            "4  Tarjeta de crédito                   7  4.60971 -74.08175  \n"
          ]
        }
      ]
    },
    {
      "cell_type": "markdown",
      "source": [
        "##Mostrando columnas, tipos de datos y primeros 10 registros:"
      ],
      "metadata": {
        "id": "k_HOzqs2K6Uc"
      }
    },
    {
      "cell_type": "code",
      "source": [
        "print(df_completo.head(10))"
      ],
      "metadata": {
        "colab": {
          "base_uri": "https://localhost:8080/"
        },
        "id": "3lwcrqFwLGXM",
        "outputId": "9069cfc3-6a4f-40dc-a0f5-2e931d88ac8e"
      },
      "execution_count": 7,
      "outputs": [
        {
          "output_type": "stream",
          "name": "stdout",
          "text": [
            "                    Producto Categoría del Producto     Precio  \\\n",
            "0          Asistente virtual           Electrónicos   164300.0   \n",
            "1            Mesa de comedor                Muebles   192300.0   \n",
            "2              Juego de mesa               Juguetes   209600.0   \n",
            "3                 Microondas      Electrodomésticos   757500.0   \n",
            "4           Silla de oficina                Muebles   335200.0   \n",
            "5    Bloques de construcción               Juguetes    24200.0   \n",
            "6                Muñeca bebé               Juguetes    44200.0   \n",
            "7               Lavavajillas      Electrodomésticos  1189700.0   \n",
            "8           Lavadora de ropa      Electrodomésticos  1518200.0   \n",
            "9  Carrito de control remoto               Juguetes    75200.0   \n",
            "\n",
            "   Costo de envío Fecha de Compra         Vendedor Lugar de Compra  \\\n",
            "0          6900.0      16/01/2021      Pedro Gomez          Bogotá   \n",
            "1          8400.0      18/05/2022  Beatriz Morales        Medellín   \n",
            "2         15900.0      15/03/2021   Juan Fernandez       Cartagena   \n",
            "3         41000.0      03/05/2022   Juan Fernandez            Cali   \n",
            "4         20200.0      07/11/2020    Maria Alfonso        Medellín   \n",
            "5             0.0      03/12/2020  Beatriz Morales            Cali   \n",
            "6             0.0      07/08/2021   Juan Fernandez          Bogotá   \n",
            "7         63700.0      18/06/2021    Felipe Santos     Santa Marta   \n",
            "8         79000.0      08/01/2022  Izabela de León          Bogotá   \n",
            "9          5100.0      24/02/2020  Beatriz Morales          Bogotá   \n",
            "\n",
            "   Calificación      Método de pago  Cantidad de cuotas       lat       lon  \n",
            "0             4  Tarjeta de crédito                   8   4.60971 -74.08175  \n",
            "1             1  Tarjeta de crédito                   4   6.25184 -75.56359  \n",
            "2             1  Tarjeta de crédito                   1  10.39972 -75.51444  \n",
            "3             4               Nequi                   1   3.43722 -76.52250  \n",
            "4             5               Nequi                   1   6.25184 -75.56359  \n",
            "5             5               Cupón                   1   3.43722 -76.52250  \n",
            "6             3               Nequi                   1   4.60971 -74.08175  \n",
            "7             5  Tarjeta de crédito                  10  11.24079 -74.19904  \n",
            "8             1  Tarjeta de crédito                   5   4.60971 -74.08175  \n",
            "9             5               Nequi                   1   4.60971 -74.08175  \n"
          ]
        }
      ]
    },
    {
      "cell_type": "markdown",
      "source": [
        "##Inicio de analisis de datos:\n",
        "print(df_tienda1.info())\n",
        "###Es una herramienta esencial para explorar tu DataFrame en Pandas. Te explica qué contiene, su estructura y problemas comunes como datos faltantes\n",
        "\n",
        "##En Tienda1 muestra:\n",
        "\n",
        "\n",
        "*   Número de filas y columnas (ej: RangeIndex: 100 entries, 0 to 99).\n",
        "*   Nombre de cada columna + tipo de dato (dtype: int64, float64, object, etc.).\n",
        "*   Cantidad de valores no nulos (útil para detectar datos faltantes).\n",
        "*   Uso de memoria.\n",
        "\n",
        "\n",
        "\n"
      ],
      "metadata": {
        "id": "StrvFKuQXKrG"
      }
    },
    {
      "cell_type": "code",
      "source": [
        "print(df_tienda1.info())"
      ],
      "metadata": {
        "colab": {
          "base_uri": "https://localhost:8080/"
        },
        "id": "6n6wf4uqLBMx",
        "outputId": "e8402526-ada1-4ab0-a7e2-f00c3d7de125"
      },
      "execution_count": 8,
      "outputs": [
        {
          "output_type": "stream",
          "name": "stdout",
          "text": [
            "<class 'pandas.core.frame.DataFrame'>\n",
            "RangeIndex: 2359 entries, 0 to 2358\n",
            "Data columns (total 12 columns):\n",
            " #   Column                  Non-Null Count  Dtype  \n",
            "---  ------                  --------------  -----  \n",
            " 0   Producto                2359 non-null   object \n",
            " 1   Categoría del Producto  2359 non-null   object \n",
            " 2   Precio                  2359 non-null   float64\n",
            " 3   Costo de envío          2359 non-null   float64\n",
            " 4   Fecha de Compra         2359 non-null   object \n",
            " 5   Vendedor                2359 non-null   object \n",
            " 6   Lugar de Compra         2359 non-null   object \n",
            " 7   Calificación            2359 non-null   int64  \n",
            " 8   Método de pago          2359 non-null   object \n",
            " 9   Cantidad de cuotas      2359 non-null   int64  \n",
            " 10  lat                     2359 non-null   float64\n",
            " 11  lon                     2359 non-null   float64\n",
            "dtypes: float64(4), int64(2), object(6)\n",
            "memory usage: 221.3+ KB\n",
            "None\n"
          ]
        }
      ]
    },
    {
      "cell_type": "code",
      "source": [
        "#No hay valores perdidos"
      ],
      "metadata": {
        "id": "iInrMpszIhWh"
      },
      "execution_count": 9,
      "outputs": []
    },
    {
      "cell_type": "markdown",
      "source": [
        "#1. Análisis de facturación\n",
        "\n"
      ],
      "metadata": {
        "id": "X62IW3KFUIYm"
      }
    },
    {
      "cell_type": "markdown",
      "source": [
        "###Ingreso total por cada tienda:"
      ],
      "metadata": {
        "id": "gKGOFWvr3JOi"
      }
    },
    {
      "cell_type": "code",
      "source": [
        "#Creando lista de DataFrames\n",
        "tiendas = [df_tienda1, df_tienda2, df_tienda3, df_tienda4]"
      ],
      "metadata": {
        "id": "xykobSftV64I"
      },
      "execution_count": 10,
      "outputs": []
    },
    {
      "cell_type": "code",
      "source": [
        "lambda tienda: tienda['Precio'].sum()"
      ],
      "metadata": {
        "colab": {
          "base_uri": "https://localhost:8080/"
        },
        "id": "SYsXVbLd9GmX",
        "outputId": "f1f59be6-d32c-4d44-b95d-34f403f10cc7"
      },
      "execution_count": 11,
      "outputs": [
        {
          "output_type": "execute_result",
          "data": {
            "text/plain": [
              "<function __main__.<lambda>(tienda)>"
            ]
          },
          "metadata": {},
          "execution_count": 11
        }
      ]
    },
    {
      "cell_type": "code",
      "source": [
        "#Calcular y guardar los ingresos en la variable ingresos\n",
        "ingresos = list(map(lambda x: x['Precio'].sum(), tiendas)) #la x es una variable local temporal\n",
        "ingresos"
      ],
      "metadata": {
        "colab": {
          "base_uri": "https://localhost:8080/"
        },
        "id": "sA3sY29D4hFV",
        "outputId": "a47617cc-d9b7-438f-b4ad-3f0bd8c5f686"
      },
      "execution_count": 12,
      "outputs": [
        {
          "output_type": "execute_result",
          "data": {
            "text/plain": [
              "[np.float64(1150880400.0),\n",
              " np.float64(1116343500.0),\n",
              " np.float64(1098019600.0),\n",
              " np.float64(1038375700.0)]"
            ]
          },
          "metadata": {},
          "execution_count": 12
        }
      ]
    },
    {
      "cell_type": "code",
      "source": [
        "#start=1 recorre el num de tienda\n",
        "for i, ingreso_total in enumerate(ingresos, start=1): #enumerate da el índice(posición que empieza en 0) & elemento\n",
        "    print(f\"Ingreso total de Tienda {i}: ${ingreso_total:,.2f}\")\n",
        "\n",
        "# : empieza a aplicar el formato\n",
        "# , añade comas cada 3 cifras\n",
        "# .2f deja solo dos decimales"
      ],
      "metadata": {
        "id": "KDyr8E71V3m-",
        "colab": {
          "base_uri": "https://localhost:8080/"
        },
        "outputId": "3074a422-7f8f-43b8-cbd6-ca331fa912cc"
      },
      "execution_count": 13,
      "outputs": [
        {
          "output_type": "stream",
          "name": "stdout",
          "text": [
            "Ingreso total de Tienda 1: $1,150,880,400.00\n",
            "Ingreso total de Tienda 2: $1,116,343,500.00\n",
            "Ingreso total de Tienda 3: $1,098,019,600.00\n",
            "Ingreso total de Tienda 4: $1,038,375,700.00\n"
          ]
        }
      ]
    },
    {
      "cell_type": "code",
      "source": [
        "#Creando gráfica de barras para visualización:\n",
        "\n",
        "#Necesitamos que las tiendas tengan nombre:\n",
        "tiendas_nombre = ['Tienda 1', 'Tienda 2', 'Tienda 3', 'Tienda 4']\n",
        "\n",
        "# Crear el gráfico de barras\n",
        "plt.figure(figsize=(8, 5))\n",
        "plt.bar(tiendas_nombre, ingresos, color='darkmagenta', edgecolor='dimgray')\n",
        "\n",
        "# Agregar títulos y etiquetas\n",
        "plt.title('Ingresos Totales por Tienda',  fontsize=12, fontweight='bold', fontname='DejaVu Sans')\n",
        "plt.xlabel('Tiendas', fontsize=12, fontname='DejaVu Sans', fontweight='bold')\n",
        "plt.ylabel('Ingresos ($)', fontsize=12, fontname='DejaVu Sans', fontweight='bold')\n",
        "plt.grid(axis='y', linestyle='--', alpha=0.7)\n",
        "\n",
        "# Mostrar valores encima de las barras\n",
        "for i, ingreso in enumerate(ingresos):\n",
        "    plt.text(i, ingreso + 500, f\"${ingreso:,.0f}\", ha='center') #El 500 es un pequeño “margen visual” para que el número sea más fácil de leer\n",
        "\n",
        "# Mostrar gráfico\n",
        "plt.tight_layout()\n",
        "plt.show()"
      ],
      "metadata": {
        "colab": {
          "base_uri": "https://localhost:8080/",
          "height": 507
        },
        "id": "z5Dm285Fh9aB",
        "outputId": "28d02a31-bc7f-44fa-a97d-e7fda7ebc2b4"
      },
      "execution_count": 91,
      "outputs": [
        {
          "output_type": "display_data",
          "data": {
            "text/plain": [
              "<Figure size 800x500 with 1 Axes>"
            ],
            "image/png": "[encoded data removed]"
          },
          "metadata": {}
        }
      ]
    },
    {
      "cell_type": "markdown",
      "source": [
        "##Tiendas con el valor de venta más bajo y más alto:\n",
        "\n",
        "\n",
        "*   (Ingresos más bajos) Tienda 4 con: $1,038,375,700.00\n",
        "*   (Ingresos más altos) Tienda 1 con: $1,150,880,400.00\n",
        "\n"
      ],
      "metadata": {
        "id": "KLxymdZRatp6"
      }
    },
    {
      "cell_type": "code",
      "source": [
        "#Valor mínimo:\n",
        "menor_ingreso = min(ingresos)\n",
        "menor_ingreso"
      ],
      "metadata": {
        "colab": {
          "base_uri": "https://localhost:8080/"
        },
        "id": "u3kb9UMUOn3p",
        "outputId": "4bc587e2-4367-4207-8424-a47e59acb32a"
      },
      "execution_count": 15,
      "outputs": [
        {
          "output_type": "execute_result",
          "data": {
            "text/plain": [
              "np.float64(1038375700.0)"
            ]
          },
          "metadata": {},
          "execution_count": 15
        }
      ]
    },
    {
      "cell_type": "code",
      "source": [
        "#índice que tiene menor num. de ingresos, comenzando en posición 0:\n",
        "indice_menor = ingresos.index(menor_ingreso)\n",
        "indice_menor"
      ],
      "metadata": {
        "colab": {
          "base_uri": "https://localhost:8080/"
        },
        "id": "G-kjFhB3aT-i",
        "outputId": "759f78a8-8f86-4997-9076-fd8d530e9dd8"
      },
      "execution_count": 16,
      "outputs": [
        {
          "output_type": "execute_result",
          "data": {
            "text/plain": [
              "3"
            ]
          },
          "metadata": {},
          "execution_count": 16
        }
      ]
    },
    {
      "cell_type": "code",
      "source": [
        "print(f\"La tienda con menor ingreso es la Tienda {indice_menor + 1} con ${menor_ingreso:,.2f}\")\n"
      ],
      "metadata": {
        "colab": {
          "base_uri": "https://localhost:8080/"
        },
        "id": "pXBzMV_uag06",
        "outputId": "21b59540-d655-4e90-8b2a-fd50c10929e7"
      },
      "execution_count": 17,
      "outputs": [
        {
          "output_type": "stream",
          "name": "stdout",
          "text": [
            "La tienda con menor ingreso es la Tienda 4 con $1,038,375,700.00\n"
          ]
        }
      ]
    },
    {
      "cell_type": "code",
      "source": [
        "mayor_ingreso = max(ingresos)\n",
        "indice_mayor =  ingresos.index(mayor_ingreso)\n",
        "print(f'La tienda con mayor ingreso es la Tienda {indice_mayor + 1} con ${mayor_ingreso:,.2f}')"
      ],
      "metadata": {
        "colab": {
          "base_uri": "https://localhost:8080/"
        },
        "id": "L3sytxcRa6rK",
        "outputId": "5a9d66df-a91b-44c3-e5a6-c5cc1195d0e6"
      },
      "execution_count": 18,
      "outputs": [
        {
          "output_type": "stream",
          "name": "stdout",
          "text": [
            "La tienda con mayor ingreso es la Tienda 1 con $1,150,880,400.00\n"
          ]
        }
      ]
    },
    {
      "cell_type": "markdown",
      "source": [
        "# 2. Ventas por categoría"
      ],
      "metadata": {
        "id": "2V_vcAPzWZmR"
      }
    },
    {
      "cell_type": "markdown",
      "source": [
        "### Tipos de categorías de todas las Tiendas:\n",
        "\n",
        "* Electrónicos\n",
        "* Muebles\n",
        "* Juguetes\n",
        "* Electrodomésticos\n",
        "* Artículos para el hogar\n",
        "* Deportes y diversión\n",
        "* Libros\n",
        "* Instrumentos musicales  "
      ],
      "metadata": {
        "id": "trM6NTKh68qu"
      }
    },
    {
      "cell_type": "code",
      "source": [
        "#Resumiendo todas las categorías en una sola salida\n",
        "print('Categorías todas las tiendas juntas: ')\n",
        "print()\n",
        "print(df_completo['Categoría del Producto'].unique())"
      ],
      "metadata": {
        "id": "yZR6cOjXYSk1",
        "colab": {
          "base_uri": "https://localhost:8080/"
        },
        "outputId": "3f9aef93-f7a4-4402-f414-ad59d51be1a1"
      },
      "execution_count": 19,
      "outputs": [
        {
          "output_type": "stream",
          "name": "stdout",
          "text": [
            "Categorías todas las tiendas juntas: \n",
            "\n",
            "['Electrónicos' 'Muebles' 'Juguetes' 'Electrodomésticos'\n",
            " 'Artículos para el hogar' 'Deportes y diversión' 'Libros'\n",
            " 'Instrumentos musicales']\n"
          ]
        }
      ]
    },
    {
      "cell_type": "code",
      "source": [
        "# Ver las categorías de cada Tienda:\n",
        "print('Categorías de la Tienda 1: ')\n",
        "print(df_tienda1['Categoría del Producto'].unique())\n",
        "print()\n",
        "print('Categorías de la Tienda 2: ')\n",
        "print(df_tienda2['Categoría del Producto'].unique())\n",
        "print()\n",
        "print('Categorías de la Tienda 3: ')\n",
        "print(df_tienda3['Categoría del Producto'].unique())\n",
        "print()\n",
        "print('Categorías de la Tienda 4: ')\n",
        "print(df_tienda4['Categoría del Producto'].unique())"
      ],
      "metadata": {
        "id": "A34YupIuYhfF",
        "colab": {
          "base_uri": "https://localhost:8080/"
        },
        "outputId": "4b74ed92-40de-4c3b-d635-0e0be3a22026"
      },
      "execution_count": 20,
      "outputs": [
        {
          "output_type": "stream",
          "name": "stdout",
          "text": [
            "Categorías de la Tienda 1: \n",
            "['Electrónicos' 'Muebles' 'Juguetes' 'Electrodomésticos'\n",
            " 'Artículos para el hogar' 'Deportes y diversión' 'Libros'\n",
            " 'Instrumentos musicales']\n",
            "\n",
            "Categorías de la Tienda 2: \n",
            "['Muebles' 'Instrumentos musicales' 'Deportes y diversión' 'Electrónicos'\n",
            " 'Artículos para el hogar' 'Juguetes' 'Electrodomésticos' 'Libros']\n",
            "\n",
            "Categorías de la Tienda 3: \n",
            "['Electrodomésticos' 'Muebles' 'Instrumentos musicales'\n",
            " 'Deportes y diversión' 'Electrónicos' 'Juguetes'\n",
            " 'Artículos para el hogar' 'Libros']\n",
            "\n",
            "Categorías de la Tienda 4: \n",
            "['Electrodomésticos' 'Muebles' 'Deportes y diversión' 'Libros'\n",
            " 'Electrónicos' 'Instrumentos musicales' 'Juguetes'\n",
            " 'Artículos para el hogar']\n"
          ]
        }
      ]
    },
    {
      "cell_type": "code",
      "source": [
        "#Guardar lcategoria_t1 = df_tienda1['Categoría del Producto'].value_counts()\n",
        "'''categoria_t2 = df_tienda1['Categoría del Producto'].value_counts()\n",
        "categoria_t3 = df_tienda1['Categoría del Producto'].value_counts()\n",
        "categoria_t4 = df_tienda1['Categoría del Producto'].value_counts()'''\n",
        "\n",
        "#o bien:\n",
        "categorias_por_tienda = list(map(lambda x: x['Categoría del Producto'].value_counts(),tiendas))"
      ],
      "metadata": {
        "id": "JLy7ILV86wTI"
      },
      "execution_count": 33,
      "outputs": []
    },
    {
      "cell_type": "code",
      "source": [
        "#o bien:\n",
        "categorias_por_tienda = list(map(lambda x: x['Categoría del Producto'].value_counts(),tiendas))\n",
        "type(categorias_por_tienda)"
      ],
      "metadata": {
        "colab": {
          "base_uri": "https://localhost:8080/"
        },
        "id": "NznCbmzb8iUW",
        "outputId": "ff2b7a9e-759f-4aed-ebfa-0dcd0e0559f8"
      },
      "execution_count": 34,
      "outputs": [
        {
          "output_type": "execute_result",
          "data": {
            "text/plain": [
              "list"
            ]
          },
          "metadata": {},
          "execution_count": 34
        }
      ]
    },
    {
      "cell_type": "code",
      "source": [
        "for i, categorias in enumerate(categorias_por_tienda, start=1):\n",
        "    print(f\"\\n📊 Categorías más vendidas - Tienda {i}:\\n\")\n",
        "    print(categorias)\n"
      ],
      "metadata": {
        "colab": {
          "base_uri": "https://localhost:8080/"
        },
        "id": "5KCE6KCW-K_h",
        "outputId": "b6ba3492-7260-4507-f8d7-e61946e0a07a"
      },
      "execution_count": 29,
      "outputs": [
        {
          "output_type": "stream",
          "name": "stdout",
          "text": [
            "\n",
            "📊 Categorías más vendidas - Tienda 1:\n",
            "\n",
            "Categoría del Producto\n",
            "Muebles                    465\n",
            "Electrónicos               448\n",
            "Juguetes                   324\n",
            "Electrodomésticos          312\n",
            "Deportes y diversión       284\n",
            "Instrumentos musicales     182\n",
            "Libros                     173\n",
            "Artículos para el hogar    171\n",
            "Name: count, dtype: int64\n",
            "\n",
            "📊 Categorías más vendidas - Tienda 2:\n",
            "\n",
            "Categoría del Producto\n",
            "Muebles                    442\n",
            "Electrónicos               422\n",
            "Juguetes                   313\n",
            "Electrodomésticos          305\n",
            "Deportes y diversión       275\n",
            "Instrumentos musicales     224\n",
            "Libros                     197\n",
            "Artículos para el hogar    181\n",
            "Name: count, dtype: int64\n",
            "\n",
            "📊 Categorías más vendidas - Tienda 3:\n",
            "\n",
            "Categoría del Producto\n",
            "Muebles                    499\n",
            "Electrónicos               451\n",
            "Juguetes                   315\n",
            "Electrodomésticos          278\n",
            "Deportes y diversión       277\n",
            "Libros                     185\n",
            "Instrumentos musicales     177\n",
            "Artículos para el hogar    177\n",
            "Name: count, dtype: int64\n",
            "\n",
            "📊 Categorías más vendidas - Tienda 4:\n",
            "\n",
            "Categoría del Producto\n",
            "Muebles                    480\n",
            "Electrónicos               451\n",
            "Juguetes                   338\n",
            "Deportes y diversión       277\n",
            "Electrodomésticos          254\n",
            "Artículos para el hogar    201\n",
            "Libros                     187\n",
            "Instrumentos musicales     170\n",
            "Name: count, dtype: int64\n"
          ]
        }
      ]
    },
    {
      "cell_type": "markdown",
      "source": [
        "###Categorías más vendidas por tienda (ordenado de mayor a menor):"
      ],
      "metadata": {
        "id": "xZO_eylfAimz"
      }
    },
    {
      "cell_type": "code",
      "source": [
        "#Para tienda 1:\n",
        "categorias_t1 = df_tienda1['Categoría del Producto'].value_counts() #cuenta las veces en que aparece cada categoría .value_c=ordena de >a<\n",
        "categorias_t1_ordenadas = categorias_t1.sort_values(ascending=False) #significa que se quiere un orden descendente\n",
        "print(\"Categorías más vendidas - Tienda 1:\\n\")\n",
        "print(categorias_t1_ordenadas.head(3))"
      ],
      "metadata": {
        "colab": {
          "base_uri": "https://localhost:8080/"
        },
        "id": "3pHfuykKAsRu",
        "outputId": "6a69d1fa-2efc-471d-c437-86190de091c1"
      },
      "execution_count": 46,
      "outputs": [
        {
          "output_type": "stream",
          "name": "stdout",
          "text": [
            "Categorías más vendidas - Tienda 1:\n",
            "\n",
            "Categoría del Producto\n",
            "Muebles         465\n",
            "Electrónicos    448\n",
            "Juguetes        324\n",
            "Name: count, dtype: int64\n"
          ]
        }
      ]
    },
    {
      "cell_type": "code",
      "source": [
        "#Para tienda 2:\n",
        "categorias_t2 = df_tienda2['Categoría del Producto'].value_counts()\n",
        "categorias_t2_ordenadas = categorias_t2.sort_values(ascending=False)\n",
        "print(\"Categorías más vendidas - Tienda 2:\\n\")\n",
        "print(categorias_t2_ordenadas.head(3))"
      ],
      "metadata": {
        "colab": {
          "base_uri": "https://localhost:8080/"
        },
        "id": "gKHV9qWqA_uk",
        "outputId": "e88fc26b-f97f-47ff-bb7c-e6c37442b57b"
      },
      "execution_count": 40,
      "outputs": [
        {
          "output_type": "stream",
          "name": "stdout",
          "text": [
            "Categorías más vendidas - Tienda 2:\n",
            "\n",
            "Categoría del Producto\n",
            "Muebles         442\n",
            "Electrónicos    422\n",
            "Juguetes        313\n",
            "Name: count, dtype: int64\n"
          ]
        }
      ]
    },
    {
      "cell_type": "code",
      "source": [
        "#Para tienda 3:\n",
        "categorias_t3 = df_tienda3['Categoría del Producto'].value_counts()\n",
        "categorias_t3_ordenadas = categorias_t3.sort_values(ascending=False)\n",
        "print(\"Categorías más vendidas - Tienda 3:\\n\")\n",
        "print(categorias_t3_ordenadas.head(3))"
      ],
      "metadata": {
        "colab": {
          "base_uri": "https://localhost:8080/"
        },
        "id": "DXmiORXAA_7e",
        "outputId": "72a4e80e-902a-4451-97b4-20accabfb828"
      },
      "execution_count": 42,
      "outputs": [
        {
          "output_type": "stream",
          "name": "stdout",
          "text": [
            "Categorías más vendidas - Tienda 3:\n",
            "\n",
            "Categoría del Producto\n",
            "Muebles         499\n",
            "Electrónicos    451\n",
            "Juguetes        315\n",
            "Name: count, dtype: int64\n"
          ]
        }
      ]
    },
    {
      "cell_type": "code",
      "source": [
        "#Para tienda 4:\n",
        "categorias_t4 = df_tienda4['Categoría del Producto'].value_counts()\n",
        "categorias_t4_ordenadas = categorias_t4.sort_values(ascending=False)\n",
        "print(\"Categorías más vendidas - Tienda 4:\\n\")\n",
        "print(categorias_t4_ordenadas.head(3))"
      ],
      "metadata": {
        "colab": {
          "base_uri": "https://localhost:8080/"
        },
        "id": "oRLvJqQiBAHt",
        "outputId": "2b79c2c9-931c-4f7a-af13-f6029f26cf12"
      },
      "execution_count": 44,
      "outputs": [
        {
          "output_type": "stream",
          "name": "stdout",
          "text": [
            "Categorías más vendidas - Tienda 4:\n",
            "\n",
            "Categoría del Producto\n",
            "Muebles         480\n",
            "Electrónicos    451\n",
            "Juguetes        338\n",
            "Name: count, dtype: int64\n"
          ]
        }
      ]
    },
    {
      "cell_type": "markdown",
      "source": [
        "# 3. Calificación promedio de la tienda\n"
      ],
      "metadata": {
        "id": "Rq6tU_xSY3jk"
      }
    },
    {
      "cell_type": "code",
      "source": [
        "#Freccuencia en la que aparecen las calificaciones\n",
        "# .len() cuenta incluso los valores nulos = None\n",
        "# .count() ignora los nulos\n",
        "\n",
        "calificaciones_por_tienda = list(map(lambda x: x['Calificación'].value_counts(),tiendas))"
      ],
      "metadata": {
        "id": "bh3jjjJwY5MU"
      },
      "execution_count": 66,
      "outputs": []
    },
    {
      "cell_type": "code",
      "source": [
        "#Hace lo mismo que arriba:\n",
        "for i, calificacion in enumerate(calificaciones_por_tienda, start=1):\n",
        "    print(f\"\\n Calificaciones por tienda - Tienda {i}:\\n\")\n",
        "    print(calificacion)"
      ],
      "metadata": {
        "colab": {
          "base_uri": "https://localhost:8080/"
        },
        "id": "hVX4eDyZFww8",
        "outputId": "e3994ad0-c501-4bf0-81cf-a2613d925217"
      },
      "execution_count": 67,
      "outputs": [
        {
          "output_type": "stream",
          "name": "stdout",
          "text": [
            "\n",
            " Calificaciones por tienda - Tienda 1:\n",
            "\n",
            "Calificación\n",
            "5    1292\n",
            "4     444\n",
            "1     319\n",
            "3     218\n",
            "2      86\n",
            "Name: count, dtype: int64\n",
            "\n",
            " Calificaciones por tienda - Tienda 2:\n",
            "\n",
            "Calificación\n",
            "5    1302\n",
            "4     482\n",
            "1     273\n",
            "3     209\n",
            "2      93\n",
            "Name: count, dtype: int64\n",
            "\n",
            " Calificaciones por tienda - Tienda 3:\n",
            "\n",
            "Calificación\n",
            "5    1356\n",
            "4     434\n",
            "1     297\n",
            "3     193\n",
            "2      79\n",
            "Name: count, dtype: int64\n",
            "\n",
            " Calificaciones por tienda - Tienda 4:\n",
            "\n",
            "Calificación\n",
            "5    1300\n",
            "4     453\n",
            "1     310\n",
            "3     210\n",
            "2      85\n",
            "Name: count, dtype: int64\n"
          ]
        }
      ]
    },
    {
      "cell_type": "code",
      "source": [
        "promedios_calificacion = list(map(lambda x: x['Calificación'].sum() / x['Calificación'].count(), tiendas))\n",
        "\n",
        "for i, promedio in enumerate(promedios_calificacion, start=1):\n",
        "    print(f\"*** Promedio de calificación - Tienda {i}: {promedio:.2f}\")"
      ],
      "metadata": {
        "id": "I0KkjPoTY88F",
        "colab": {
          "base_uri": "https://localhost:8080/"
        },
        "outputId": "1cbfe4de-0a0b-4abd-a81b-1ccbc382c130"
      },
      "execution_count": 69,
      "outputs": [
        {
          "output_type": "stream",
          "name": "stdout",
          "text": [
            "*** Promedio de calificación - Tienda 1: 3.98\n",
            "*** Promedio de calificación - Tienda 2: 4.04\n",
            "*** Promedio de calificación - Tienda 3: 4.05\n",
            "*** Promedio de calificación - Tienda 4: 4.00\n"
          ]
        }
      ]
    },
    {
      "cell_type": "code",
      "source": [
        "# Datos\n",
        "tiendas_nombre = ['Tienda 1', 'Tienda 2', 'Tienda 3', 'Tienda 4']\n",
        "promedios_calificacion = [3.98, 4.04, 4.05, 4.00]\n",
        "colors = ['gold', 'yellowgreen', 'lightcoral', 'lightskyblue']\n",
        "\n",
        "# Crear gráfico de barras\n",
        "plt.figure(figsize=(6, 4))\n",
        "bars = plt.bar(tiendas_nombre, promedios_calificacion, color=colors)\n",
        "\n",
        "# Título y etiquetas con tipo de letra (font)\n",
        "plt.title('* Calificación Promedio por Tienda', fontsize=12, fontweight='bold', fontname='DejaVu Sans')\n",
        "plt.xlabel('Tiendas', fontsize=12, fontname='DejaVu Sans', fontweight='bold')\n",
        "plt.ylabel('Calificación (de 1 a 5)', fontsize=12, fontname='DejaVu Sans', fontweight='bold')\n",
        "\n",
        "# Mostrar los valores arriba de cada barra\n",
        "for bar in bars:\n",
        "    y = bar.get_height()\n",
        "    plt.text(bar.get_x() + bar.get_width()/2, y, f\"{y:.2f}\", ha='center', va='bottom')\n",
        "\n",
        "# Ajustar límite del eje y\n",
        "plt.ylim(3.8, 4.1)\n",
        "\n",
        "# Mostrar gráfico\n",
        "plt.grid(axis='y', linestyle='--', alpha=0.7)\n",
        "plt.tight_layout()\n",
        "plt.show()\n"
      ],
      "metadata": {
        "colab": {
          "base_uri": "https://localhost:8080/",
          "height": 407
        },
        "id": "St7nCWjyN0jg",
        "outputId": "8ec70ab3-3c76-436a-a50a-e91b6a66202f"
      },
      "execution_count": 93,
      "outputs": [
        {
          "output_type": "display_data",
          "data": {
            "text/plain": [
              "<Figure size 600x400 with 1 Axes>"
            ],
            "image/png": "[encoded data removed]"
          },
          "metadata": {}
        }
      ]
    },
    {
      "cell_type": "markdown",
      "source": [
        "# 4. Productos más y menos vendidos"
      ],
      "metadata": {
        "id": "DmNp1KPBZCm-"
      }
    },
    {
      "cell_type": "code",
      "source": [],
      "metadata": {
        "id": "qoyjqijQZHfF"
      },
      "execution_count": 22,
      "outputs": []
    },
    {
      "cell_type": "code",
      "source": [],
      "metadata": {
        "id": "0Sw3sd4IZIGW"
      },
      "execution_count": 22,
      "outputs": []
    },
    {
      "cell_type": "markdown",
      "source": [
        "# 5. Envío promedio por tienda"
      ],
      "metadata": {
        "id": "Fl0cGi3bZKqU"
      }
    },
    {
      "cell_type": "code",
      "source": [],
      "metadata": {
        "id": "S2JeaCykZNy9"
      },
      "execution_count": 22,
      "outputs": []
    },
    {
      "cell_type": "code",
      "source": [],
      "metadata": {
        "id": "0tSdCie9ZQlt"
      },
      "execution_count": 22,
      "outputs": []
    }
  ]
}