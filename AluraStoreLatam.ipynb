{
  "nbformat": 4,
  "nbformat_minor": 0,
  "metadata": {
    "colab": {
      "provenance": [],
      "include_colab_link": true
    },
    "kernelspec": {
      "name": "python3",
      "display_name": "Python 3"
    },
    "language_info": {
      "name": "python"
    }
  },
  "cells": [
    {
      "cell_type": "markdown",
      "metadata": {
        "id": "view-in-github",
        "colab_type": "text"
      },
      "source": [
        "<a href=\"https://colab.research.google.com/github/MichMDLT/Alura-store-data-science/blob/main/AluraStoreLatam.ipynb\" target=\"_parent\"><img src=\"https://colab.research.google.com/assets/colab-badge.svg\" alt=\"Open In Colab\"/></a>"
      ]
    },
    {
      "cell_type": "markdown",
      "source": [
        "### Importación de datos\n",
        "\n"
      ],
      "metadata": {
        "id": "RhEdWd9YUR6H"
      }
    },
    {
      "cell_type": "code",
      "execution_count": 1,
      "metadata": {
        "colab": {
          "base_uri": "https://localhost:8080/",
          "height": 109
        },
        "id": "T3EvaeQ_INIL",
        "outputId": "1b5fe3b9-6ef5-4ecc-b5e6-4c1b53d3ef18"
      },
      "outputs": [
        {
          "output_type": "execute_result",
          "data": {
            "text/plain": [
              "'\\nurl = \"https://raw.githubusercontent.com/alura-es-cursos/challenge1-data-science-latam/refs/heads/main/base-de-datos-challenge1-latam/tienda_1%20.csv\"\\nurl2 = \"https://raw.githubusercontent.com/alura-es-cursos/challenge1-data-science-latam/refs/heads/main/base-de-datos-challenge1-latam/tienda_2.csv\"\\nurl3 = \"https://raw.githubusercontent.com/alura-es-cursos/challenge1-data-science-latam/refs/heads/main/base-de-datos-challenge1-latam/tienda_3.csv\"\\nurl4 = \"https://raw.githubusercontent.com/alura-es-cursos/challenge1-data-science-latam/refs/heads/main/base-de-datos-challenge1-latam/tienda_4.csv\"\\n\\ntienda = pd.read_csv(url)\\ntienda2 = pd.read_csv(url2)\\ntienda3 = pd.read_csv(url3)\\ntienda4 = pd.read_csv(url4)\\n\\ntienda.head()\\n'"
            ],
            "application/vnd.google.colaboratory.intrinsic+json": {
              "type": "string"
            }
          },
          "metadata": {},
          "execution_count": 1
        }
      ],
      "source": [
        "import pandas as pd\n",
        "import matplotlib.pyplot as plt\n",
        "\n",
        "'''\n",
        "url = \"https://raw.githubusercontent.com/alura-es-cursos/challenge1-data-science-latam/refs/heads/main/base-de-datos-challenge1-latam/tienda_1%20.csv\"\n",
        "url2 = \"https://raw.githubusercontent.com/alura-es-cursos/challenge1-data-science-latam/refs/heads/main/base-de-datos-challenge1-latam/tienda_2.csv\"\n",
        "url3 = \"https://raw.githubusercontent.com/alura-es-cursos/challenge1-data-science-latam/refs/heads/main/base-de-datos-challenge1-latam/tienda_3.csv\"\n",
        "url4 = \"https://raw.githubusercontent.com/alura-es-cursos/challenge1-data-science-latam/refs/heads/main/base-de-datos-challenge1-latam/tienda_4.csv\"\n",
        "\n",
        "tienda = pd.read_csv(url)\n",
        "tienda2 = pd.read_csv(url2)\n",
        "tienda3 = pd.read_csv(url3)\n",
        "tienda4 = pd.read_csv(url4)\n",
        "\n",
        "tienda.head()\n",
        "'''"
      ]
    },
    {
      "cell_type": "code",
      "source": [
        "!git clone https://github.com/MichMDLT/Alura-store-data-science"
      ],
      "metadata": {
        "colab": {
          "base_uri": "https://localhost:8080/"
        },
        "id": "NCUISUSoMsYd",
        "outputId": "2db248da-7d3a-493e-b400-80de2fc512dc"
      },
      "execution_count": 2,
      "outputs": [
        {
          "output_type": "stream",
          "name": "stdout",
          "text": [
            "Cloning into 'Alura-store-data-science'...\n",
            "remote: Enumerating objects: 27, done.\u001b[K\n",
            "remote: Counting objects: 100% (27/27), done.\u001b[K\n",
            "remote: Compressing objects: 100% (24/24), done.\u001b[K\n",
            "remote: Total 27 (delta 8), reused 0 (delta 0), pack-reused 0 (from 0)\u001b[K\n",
            "Receiving objects: 100% (27/27), 177.94 KiB | 1.96 MiB/s, done.\n",
            "Resolving deltas: 100% (8/8), done.\n"
          ]
        }
      ]
    },
    {
      "cell_type": "code",
      "source": [
        "!ls -R /content/Alura-store-data-science"
      ],
      "metadata": {
        "colab": {
          "base_uri": "https://localhost:8080/"
        },
        "id": "b1AgOzWrO2Vs",
        "outputId": "f92c5cfb-babf-4fd3-f222-1a0d4398ac73"
      },
      "execution_count": 3,
      "outputs": [
        {
          "output_type": "stream",
          "name": "stdout",
          "text": [
            "/content/Alura-store-data-science:\n",
            "AluraStoreLatam.ipynb  base-de-datos-latam  README.md\n",
            "\n",
            "/content/Alura-store-data-science/base-de-datos-latam:\n",
            "tienda_1.csv  tienda_2.csv  tienda_3.csv  tienda_4.csv\n"
          ]
        }
      ]
    },
    {
      "cell_type": "code",
      "source": [
        "#Para trabajar cada tienda por separado: df_tiendaX (reemplazar x por 1,2,3 o 4)\n",
        "df_tienda1 = pd.read_csv('/content/Alura-store-data-science/base-de-datos-latam/tienda_1.csv')\n",
        "df_tienda2 = pd.read_csv('/content/Alura-store-data-science/base-de-datos-latam/tienda_2.csv')\n",
        "df_tienda3 = pd.read_csv('/content/Alura-store-data-science/base-de-datos-latam/tienda_3.csv')\n",
        "df_tienda4 = pd.read_csv('/content/Alura-store-data-science/base-de-datos-latam/tienda_4.csv')"
      ],
      "metadata": {
        "id": "2jgyjFYaM0eP"
      },
      "execution_count": 4,
      "outputs": []
    },
    {
      "cell_type": "code",
      "source": [
        "# Unir todos los DataFrames en uno solo\n",
        "df_completo = pd.concat([df_tienda1, df_tienda2, df_tienda3, df_tienda4])"
      ],
      "metadata": {
        "id": "PrZkbXaWRPN6"
      },
      "execution_count": 5,
      "outputs": []
    },
    {
      "cell_type": "markdown",
      "source": [
        "# Para verificar que todo cargó bien:"
      ],
      "metadata": {
        "id": "A46KRKilWfwO"
      }
    },
    {
      "cell_type": "code",
      "source": [
        "# .shape en pandas muestra la dimensión del DataFrame - devuelve tupla (#, #)\n",
        "print(\"Tienda 1:\", df_tienda1.shape)\n",
        "print()\n",
        "#muestra los primeros 5 registros\n",
        "print(\"Tienda 4:\", df_tienda4.head())"
      ],
      "metadata": {
        "colab": {
          "base_uri": "https://localhost:8080/"
        },
        "id": "GHv8-Ko9UrPg",
        "outputId": "ab4bbcf0-260d-488b-eb4f-600185576c05"
      },
      "execution_count": 6,
      "outputs": [
        {
          "output_type": "stream",
          "name": "stdout",
          "text": [
            "Tienda 1: (2359, 12)\n",
            "\n",
            "Tienda 4:               Producto Categoría del Producto     Precio  Costo de envío  \\\n",
            "0         Lavavajillas      Electrodomésticos  1084800.0         56000.0   \n",
            "1             Cama box                Muebles   473800.0         25400.0   \n",
            "2  Balón de baloncesto   Deportes y diversión    23700.0             0.0   \n",
            "3  Modelado predictivo                 Libros    57700.0          1300.0   \n",
            "4          Auriculares           Electrónicos   138900.0          5600.0   \n",
            "\n",
            "  Fecha de Compra         Vendedor Lugar de Compra  Calificación  \\\n",
            "0      11/11/2022    Rafael Acosta          Bogotá             4   \n",
            "1      03/01/2020  Izabela de León          Cúcuta             5   \n",
            "2      25/12/2022    Maria Alfonso        Medellín             5   \n",
            "3      23/11/2021    Lucas Olivera        Medellín             3   \n",
            "4      25/04/2022   Blanca Ramirez          Bogotá             4   \n",
            "\n",
            "       Método de pago  Cantidad de cuotas      lat       lon  \n",
            "0  Tarjeta de crédito                   3  4.60971 -74.08175  \n",
            "1  Tarjeta de crédito                   2  7.89391 -72.50782  \n",
            "2               Nequi                   1  6.25184 -75.56359  \n",
            "3               Nequi                   1  6.25184 -75.56359  \n",
            "4  Tarjeta de crédito                   7  4.60971 -74.08175  \n"
          ]
        }
      ]
    },
    {
      "cell_type": "markdown",
      "source": [
        "##Mostrando columnas, tipos de datos y primeros 10 registros:"
      ],
      "metadata": {
        "id": "k_HOzqs2K6Uc"
      }
    },
    {
      "cell_type": "code",
      "source": [
        "print(df_completo.head(10))"
      ],
      "metadata": {
        "colab": {
          "base_uri": "https://localhost:8080/"
        },
        "id": "3lwcrqFwLGXM",
        "outputId": "265d2465-1169-43e7-d7d4-a9dfb11c51ba"
      },
      "execution_count": 7,
      "outputs": [
        {
          "output_type": "stream",
          "name": "stdout",
          "text": [
            "                    Producto Categoría del Producto     Precio  \\\n",
            "0          Asistente virtual           Electrónicos   164300.0   \n",
            "1            Mesa de comedor                Muebles   192300.0   \n",
            "2              Juego de mesa               Juguetes   209600.0   \n",
            "3                 Microondas      Electrodomésticos   757500.0   \n",
            "4           Silla de oficina                Muebles   335200.0   \n",
            "5    Bloques de construcción               Juguetes    24200.0   \n",
            "6                Muñeca bebé               Juguetes    44200.0   \n",
            "7               Lavavajillas      Electrodomésticos  1189700.0   \n",
            "8           Lavadora de ropa      Electrodomésticos  1518200.0   \n",
            "9  Carrito de control remoto               Juguetes    75200.0   \n",
            "\n",
            "   Costo de envío Fecha de Compra         Vendedor Lugar de Compra  \\\n",
            "0          6900.0      16/01/2021      Pedro Gomez          Bogotá   \n",
            "1          8400.0      18/05/2022  Beatriz Morales        Medellín   \n",
            "2         15900.0      15/03/2021   Juan Fernandez       Cartagena   \n",
            "3         41000.0      03/05/2022   Juan Fernandez            Cali   \n",
            "4         20200.0      07/11/2020    Maria Alfonso        Medellín   \n",
            "5             0.0      03/12/2020  Beatriz Morales            Cali   \n",
            "6             0.0      07/08/2021   Juan Fernandez          Bogotá   \n",
            "7         63700.0      18/06/2021    Felipe Santos     Santa Marta   \n",
            "8         79000.0      08/01/2022  Izabela de León          Bogotá   \n",
            "9          5100.0      24/02/2020  Beatriz Morales          Bogotá   \n",
            "\n",
            "   Calificación      Método de pago  Cantidad de cuotas       lat       lon  \n",
            "0             4  Tarjeta de crédito                   8   4.60971 -74.08175  \n",
            "1             1  Tarjeta de crédito                   4   6.25184 -75.56359  \n",
            "2             1  Tarjeta de crédito                   1  10.39972 -75.51444  \n",
            "3             4               Nequi                   1   3.43722 -76.52250  \n",
            "4             5               Nequi                   1   6.25184 -75.56359  \n",
            "5             5               Cupón                   1   3.43722 -76.52250  \n",
            "6             3               Nequi                   1   4.60971 -74.08175  \n",
            "7             5  Tarjeta de crédito                  10  11.24079 -74.19904  \n",
            "8             1  Tarjeta de crédito                   5   4.60971 -74.08175  \n",
            "9             5               Nequi                   1   4.60971 -74.08175  \n"
          ]
        }
      ]
    },
    {
      "cell_type": "markdown",
      "source": [
        "##Inicio de analisis de datos:\n",
        "print(df_tienda1.info())\n",
        "###Es una herramienta esencial para explorar tu DataFrame en Pandas. Te explica qué contiene, su estructura y problemas comunes como datos faltantes\n",
        "\n",
        "##En Tienda1 muestra:\n",
        "\n",
        "\n",
        "*   Número de filas y columnas (ej: RangeIndex: 100 entries, 0 to 99).\n",
        "*   Nombre de cada columna + tipo de dato (dtype: int64, float64, object, etc.).\n",
        "*   Cantidad de valores no nulos (útil para detectar datos faltantes).\n",
        "*   Uso de memoria.\n",
        "\n",
        "\n",
        "\n"
      ],
      "metadata": {
        "id": "StrvFKuQXKrG"
      }
    },
    {
      "cell_type": "code",
      "source": [
        "print(df_tienda1.info())"
      ],
      "metadata": {
        "colab": {
          "base_uri": "https://localhost:8080/"
        },
        "id": "6n6wf4uqLBMx",
        "outputId": "f7900ae8-b261-4afe-b95a-860ee8a8435d"
      },
      "execution_count": 8,
      "outputs": [
        {
          "output_type": "stream",
          "name": "stdout",
          "text": [
            "<class 'pandas.core.frame.DataFrame'>\n",
            "RangeIndex: 2359 entries, 0 to 2358\n",
            "Data columns (total 12 columns):\n",
            " #   Column                  Non-Null Count  Dtype  \n",
            "---  ------                  --------------  -----  \n",
            " 0   Producto                2359 non-null   object \n",
            " 1   Categoría del Producto  2359 non-null   object \n",
            " 2   Precio                  2359 non-null   float64\n",
            " 3   Costo de envío          2359 non-null   float64\n",
            " 4   Fecha de Compra         2359 non-null   object \n",
            " 5   Vendedor                2359 non-null   object \n",
            " 6   Lugar de Compra         2359 non-null   object \n",
            " 7   Calificación            2359 non-null   int64  \n",
            " 8   Método de pago          2359 non-null   object \n",
            " 9   Cantidad de cuotas      2359 non-null   int64  \n",
            " 10  lat                     2359 non-null   float64\n",
            " 11  lon                     2359 non-null   float64\n",
            "dtypes: float64(4), int64(2), object(6)\n",
            "memory usage: 221.3+ KB\n",
            "None\n"
          ]
        }
      ]
    },
    {
      "cell_type": "code",
      "source": [
        "#No hay valores perdidos"
      ],
      "metadata": {
        "id": "iInrMpszIhWh"
      },
      "execution_count": 83,
      "outputs": []
    },
    {
      "cell_type": "markdown",
      "source": [
        "#1. Análisis de facturación\n",
        "\n"
      ],
      "metadata": {
        "id": "X62IW3KFUIYm"
      }
    },
    {
      "cell_type": "markdown",
      "source": [
        "###Ingreso total por cada tienda:"
      ],
      "metadata": {
        "id": "gKGOFWvr3JOi"
      }
    },
    {
      "cell_type": "code",
      "source": [
        "#Creando lista de DataFrames\n",
        "tiendas = [df_tienda1, df_tienda2, df_tienda3, df_tienda4]"
      ],
      "metadata": {
        "id": "xykobSftV64I"
      },
      "execution_count": 62,
      "outputs": []
    },
    {
      "cell_type": "code",
      "source": [
        "lambda tienda: tienda['Precio'].sum()"
      ],
      "metadata": {
        "colab": {
          "base_uri": "https://localhost:8080/"
        },
        "id": "SYsXVbLd9GmX",
        "outputId": "28057b14-af96-4b31-a3b5-c6016b59e32c"
      },
      "execution_count": 26,
      "outputs": [
        {
          "output_type": "execute_result",
          "data": {
            "text/plain": [
              "<function __main__.<lambda>(tienda)>"
            ]
          },
          "metadata": {},
          "execution_count": 26
        }
      ]
    },
    {
      "cell_type": "code",
      "source": [
        "#Calcular y guardar los ingresos en la variable ingresos\n",
        "ingresos = list(map(lambda x: x['Precio'].sum(), tiendas)) #la x es una variable local temporal\n",
        "ingresos"
      ],
      "metadata": {
        "colab": {
          "base_uri": "https://localhost:8080/"
        },
        "id": "sA3sY29D4hFV",
        "outputId": "48201619-bd8e-422f-8e44-02fc8823de9c"
      },
      "execution_count": 23,
      "outputs": [
        {
          "output_type": "execute_result",
          "data": {
            "text/plain": [
              "[np.float64(1150880400.0),\n",
              " np.float64(1116343500.0),\n",
              " np.float64(1098019600.0),\n",
              " np.float64(1038375700.0)]"
            ]
          },
          "metadata": {},
          "execution_count": 23
        }
      ]
    },
    {
      "cell_type": "code",
      "source": [
        "#start=1 recorre el num de tienda\n",
        "for i, ingreso_total in enumerate(ingresos, start=1): #enumerate da el índice(posición que empieza en 0) & elemento\n",
        "    print(f\"Ingreso total de Tienda {i}: ${ingreso_total:,.2f}\")\n",
        "\n",
        "# : empieza a aplicar el formato\n",
        "# , añade comas cada 3 cifras\n",
        "# .2f deja solo dos decimales"
      ],
      "metadata": {
        "id": "KDyr8E71V3m-",
        "colab": {
          "base_uri": "https://localhost:8080/"
        },
        "outputId": "598e8ef8-14b5-4703-b729-f6bb9b50a375"
      },
      "execution_count": 44,
      "outputs": [
        {
          "output_type": "stream",
          "name": "stdout",
          "text": [
            "Ingreso total de Tienda 1: $1,150,880,400.00\n",
            "Ingreso total de Tienda 2: $1,116,343,500.00\n",
            "Ingreso total de Tienda 3: $1,098,019,600.00\n",
            "Ingreso total de Tienda 4: $1,038,375,700.00\n"
          ]
        }
      ]
    },
    {
      "cell_type": "code",
      "source": [
        "#Creando gráfica de barras para visualización:\n",
        "\n",
        "#Necesitamos que las tiendas tengan nombre:\n",
        "tiendas_nombre = ['Tienda 1', 'Tienda 2', 'Tienda 3', 'Tienda 4']\n",
        "\n",
        "# Crear el gráfico de barras\n",
        "plt.figure(figsize=(8, 5))\n",
        "plt.bar(tiendas_nombre, ingresos, color='blueviolet', edgecolor='dimgray')\n",
        "\n",
        "# Agregar títulos y etiquetas\n",
        "plt.title('Ingresos Totales por Tienda')\n",
        "plt.xlabel('Tiendas')\n",
        "plt.ylabel('Ingresos ($)')\n",
        "plt.grid(axis='y', linestyle='--', alpha=0.7)\n",
        "\n",
        "# Mostrar valores encima de las barras\n",
        "for i, ingreso in enumerate(ingresos):\n",
        "    plt.text(i, ingreso + 500, f\"${ingreso:,.0f}\", ha='center') #El 500 es un pequeño “margen visual” para que el número sea más fácil de leer\n",
        "\n",
        "# Mostrar gráfico\n",
        "plt.tight_layout()\n",
        "plt.show()"
      ],
      "metadata": {
        "colab": {
          "base_uri": "https://localhost:8080/",
          "height": 507
        },
        "id": "z5Dm285Fh9aB",
        "outputId": "5ab14071-d53d-4f45-875e-f20d4d503b05"
      },
      "execution_count": 82,
      "outputs": [
        {
          "output_type": "display_data",
          "data": {
            "text/plain": [
              "<Figure size 800x500 with 1 Axes>"
            ],
            "image/png": "[encoded data removed]"
          },
          "metadata": {}
        }
      ]
    },
    {
      "cell_type": "markdown",
      "source": [
        "##Tiendas con el valor de venta más bajo y más alto:\n",
        "\n",
        "\n",
        "*   (Ingresos más bajos) Tienda 4 con: $1,038,375,700.00\n",
        "*   (Ingresos más altos) Tienda 1 con: $1,150,880,400.00\n",
        "\n"
      ],
      "metadata": {
        "id": "KLxymdZRatp6"
      }
    },
    {
      "cell_type": "code",
      "source": [
        "#Valor mínimo:\n",
        "menor_ingreso = min(ingresos)\n",
        "menor_ingreso"
      ],
      "metadata": {
        "colab": {
          "base_uri": "https://localhost:8080/"
        },
        "id": "u3kb9UMUOn3p",
        "outputId": "43e24bcd-89a6-408c-a47e-de337889fe08"
      },
      "execution_count": 58,
      "outputs": [
        {
          "output_type": "execute_result",
          "data": {
            "text/plain": [
              "np.float64(1038375700.0)"
            ]
          },
          "metadata": {},
          "execution_count": 58
        }
      ]
    },
    {
      "cell_type": "code",
      "source": [
        "#índice que tiene menor num. de ingresos, comenzando en posición 0:\n",
        "indice_menor = ingresos.index(menor_ingreso)\n",
        "indice_menor"
      ],
      "metadata": {
        "colab": {
          "base_uri": "https://localhost:8080/"
        },
        "id": "G-kjFhB3aT-i",
        "outputId": "de248100-e89e-453b-bd9f-21d620a25f22"
      },
      "execution_count": 59,
      "outputs": [
        {
          "output_type": "execute_result",
          "data": {
            "text/plain": [
              "3"
            ]
          },
          "metadata": {},
          "execution_count": 59
        }
      ]
    },
    {
      "cell_type": "code",
      "source": [
        "print(f\"La tienda con menor ingreso es la Tienda {indice_menor + 1} con ${menor_ingreso:,.2f}\")\n"
      ],
      "metadata": {
        "colab": {
          "base_uri": "https://localhost:8080/"
        },
        "id": "pXBzMV_uag06",
        "outputId": "0aa64731-46e2-42df-fbf2-60b1c5f0f96f"
      },
      "execution_count": 55,
      "outputs": [
        {
          "output_type": "stream",
          "name": "stdout",
          "text": [
            "La tienda con menor ingreso es la Tienda 4 con $1,038,375,700.00\n"
          ]
        }
      ]
    },
    {
      "cell_type": "code",
      "source": [
        "mayor_ingreso = max(ingresos)\n",
        "indice_mayor =  ingresos.index(mayor_ingreso)\n",
        "print(f'La tienda con mayor ingreso es la Tienda {indice_mayor + 1} con ${mayor_ingreso:,.2f}')"
      ],
      "metadata": {
        "colab": {
          "base_uri": "https://localhost:8080/"
        },
        "id": "L3sytxcRa6rK",
        "outputId": "31d24fb6-ab64-4f5b-e782-fee24a39bd86"
      },
      "execution_count": 57,
      "outputs": [
        {
          "output_type": "stream",
          "name": "stdout",
          "text": [
            "La tienda con mayor ingreso es la Tienda 1 con $1,150,880,400.00\n"
          ]
        }
      ]
    },
    {
      "cell_type": "markdown",
      "source": [
        "# 2. Ventas por categoría"
      ],
      "metadata": {
        "id": "2V_vcAPzWZmR"
      }
    },
    {
      "cell_type": "code",
      "source": [
        "# Ver las categorías de cada trienda:\n",
        "print('Categorías de la Tienda 1: ')\n",
        "print(df_tienda1['Categoría del Producto'].unique())\n",
        "print()\n",
        "print('Categorías de la Tienda 2: ')\n",
        "print(df_tienda2['Categoría del Producto'].unique())\n",
        "print()\n",
        "print('Categorías de la Tienda 3: ')\n",
        "print(df_tienda3['Categoría del Producto'].unique())\n",
        "print()\n",
        "print('Categorías de la Tienda 4: ')\n",
        "print(df_tienda4['Categoría del Producto'].unique())"
      ],
      "metadata": {
        "id": "A34YupIuYhfF",
        "colab": {
          "base_uri": "https://localhost:8080/"
        },
        "outputId": "adf44805-56e8-4445-bed2-1beedfdec088"
      },
      "execution_count": 102,
      "outputs": [
        {
          "output_type": "stream",
          "name": "stdout",
          "text": [
            "Categorías de la Tienda 1: \n",
            "['Electrónicos' 'Muebles' 'Juguetes' 'Electrodomésticos'\n",
            " 'Artículos para el hogar' 'Deportes y diversión' 'Libros'\n",
            " 'Instrumentos musicales']\n",
            "\n",
            "Categorías de la Tienda 2: \n",
            "['Muebles' 'Instrumentos musicales' 'Deportes y diversión' 'Electrónicos'\n",
            " 'Artículos para el hogar' 'Juguetes' 'Electrodomésticos' 'Libros']\n",
            "\n",
            "Categorías de la Tienda 3: \n",
            "['Electrodomésticos' 'Muebles' 'Instrumentos musicales'\n",
            " 'Deportes y diversión' 'Electrónicos' 'Juguetes'\n",
            " 'Artículos para el hogar' 'Libros']\n",
            "\n",
            "Categorías de la Tienda 4: \n",
            "['Electrodomésticos' 'Muebles' 'Deportes y diversión' 'Libros'\n",
            " 'Electrónicos' 'Instrumentos musicales' 'Juguetes'\n",
            " 'Artículos para el hogar']\n"
          ]
        }
      ]
    },
    {
      "cell_type": "code",
      "source": [
        "#Resumiendo todas las categorías en una sola salida\n",
        "print('Categorías todas las tiendas juntas: ')\n",
        "print()\n",
        "print(df_completo['Categoría del Producto'].unique())"
      ],
      "metadata": {
        "id": "yZR6cOjXYSk1",
        "colab": {
          "base_uri": "https://localhost:8080/"
        },
        "outputId": "2d6c5a41-0717-449b-c399-4dac9bf3c4a6"
      },
      "execution_count": 110,
      "outputs": [
        {
          "output_type": "stream",
          "name": "stdout",
          "text": [
            "Categorías todas las tiendas juntas: \n",
            "\n",
            "['Electrónicos' 'Muebles' 'Juguetes' 'Electrodomésticos'\n",
            " 'Artículos para el hogar' 'Deportes y diversión' 'Libros'\n",
            " 'Instrumentos musicales']\n"
          ]
        }
      ]
    },
    {
      "cell_type": "markdown",
      "source": [
        "# 3. Calificación promedio de la tienda\n"
      ],
      "metadata": {
        "id": "Rq6tU_xSY3jk"
      }
    },
    {
      "cell_type": "code",
      "source": [],
      "metadata": {
        "id": "bh3jjjJwY5MU"
      },
      "execution_count": null,
      "outputs": []
    },
    {
      "cell_type": "code",
      "source": [],
      "metadata": {
        "id": "I0KkjPoTY88F"
      },
      "execution_count": null,
      "outputs": []
    },
    {
      "cell_type": "markdown",
      "source": [
        "# 4. Productos más y menos vendidos"
      ],
      "metadata": {
        "id": "DmNp1KPBZCm-"
      }
    },
    {
      "cell_type": "code",
      "source": [],
      "metadata": {
        "id": "qoyjqijQZHfF"
      },
      "execution_count": null,
      "outputs": []
    },
    {
      "cell_type": "code",
      "source": [],
      "metadata": {
        "id": "0Sw3sd4IZIGW"
      },
      "execution_count": null,
      "outputs": []
    },
    {
      "cell_type": "markdown",
      "source": [
        "# 5. Envío promedio por tienda"
      ],
      "metadata": {
        "id": "Fl0cGi3bZKqU"
      }
    },
    {
      "cell_type": "code",
      "source": [],
      "metadata": {
        "id": "S2JeaCykZNy9"
      },
      "execution_count": null,
      "outputs": []
    },
    {
      "cell_type": "code",
      "source": [],
      "metadata": {
        "id": "0tSdCie9ZQlt"
      },
      "execution_count": null,
      "outputs": []
    }
  ]
}